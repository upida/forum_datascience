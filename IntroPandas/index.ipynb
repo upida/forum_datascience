{
 "cells": [
  {
   "cell_type": "markdown",
   "metadata": {},
   "source": [
    "# Transportasi yang banyak diminati antara bus dan kereta api"
   ]
  },
  {
   "cell_type": "code",
   "execution_count": 37,
   "metadata": {},
   "outputs": [],
   "source": [
    "import pandas as pd\n",
    "import numpy as np"
   ]
  },
  {
   "cell_type": "code",
   "execution_count": 38,
   "metadata": {},
   "outputs": [
    {
     "name": "stdout",
     "output_type": "stream",
     "text": [
      "  service_date day_type     bus  rail_boardings  total_rides\n",
      "0   01/01/2001        U  297192          126455       423647\n",
      "1   01/02/2001        W  780827          501952      1282779\n",
      "2   01/03/2001        W  824923          536432      1361355\n",
      "3   01/04/2001        W  870021          550011      1420032\n",
      "4   01/05/2001        W  890426          557917      1448343\n"
     ]
    }
   ],
   "source": [
    "# URL file CSV di GitHub\n",
    "github_url = \"https://raw.githubusercontent.com/rebekz/datascience_course/main/data/ridership/CTA_-_Ridership_-_Daily_Boarding_Totals.csv\"\n",
    "\n",
    "# Baca file CSV\n",
    "df = pd.read_csv(github_url)\n",
    "print(df.head())"
   ]
  },
  {
   "cell_type": "markdown",
   "metadata": {},
   "source": [
    "Tambahkan kolom most_used untuk mendapatkan transportasi yang banyak digunakan setiap hari"
   ]
  },
  {
   "cell_type": "code",
   "execution_count": 40,
   "metadata": {},
   "outputs": [
    {
     "data": {
      "text/html": [
       "<div>\n",
       "<style scoped>\n",
       "    .dataframe tbody tr th:only-of-type {\n",
       "        vertical-align: middle;\n",
       "    }\n",
       "\n",
       "    .dataframe tbody tr th {\n",
       "        vertical-align: top;\n",
       "    }\n",
       "\n",
       "    .dataframe thead th {\n",
       "        text-align: right;\n",
       "    }\n",
       "</style>\n",
       "<table border=\"1\" class=\"dataframe\">\n",
       "  <thead>\n",
       "    <tr style=\"text-align: right;\">\n",
       "      <th></th>\n",
       "      <th>service_date</th>\n",
       "      <th>day_type</th>\n",
       "      <th>bus</th>\n",
       "      <th>rail_boardings</th>\n",
       "      <th>most_used</th>\n",
       "    </tr>\n",
       "  </thead>\n",
       "  <tbody>\n",
       "    <tr>\n",
       "      <th>0</th>\n",
       "      <td>01/01/2001</td>\n",
       "      <td>U</td>\n",
       "      <td>297192</td>\n",
       "      <td>126455</td>\n",
       "      <td>Bus</td>\n",
       "    </tr>\n",
       "    <tr>\n",
       "      <th>1</th>\n",
       "      <td>01/02/2001</td>\n",
       "      <td>W</td>\n",
       "      <td>780827</td>\n",
       "      <td>501952</td>\n",
       "      <td>Bus</td>\n",
       "    </tr>\n",
       "    <tr>\n",
       "      <th>2</th>\n",
       "      <td>01/03/2001</td>\n",
       "      <td>W</td>\n",
       "      <td>824923</td>\n",
       "      <td>536432</td>\n",
       "      <td>Bus</td>\n",
       "    </tr>\n",
       "    <tr>\n",
       "      <th>3</th>\n",
       "      <td>01/04/2001</td>\n",
       "      <td>W</td>\n",
       "      <td>870021</td>\n",
       "      <td>550011</td>\n",
       "      <td>Bus</td>\n",
       "    </tr>\n",
       "    <tr>\n",
       "      <th>4</th>\n",
       "      <td>01/05/2001</td>\n",
       "      <td>W</td>\n",
       "      <td>890426</td>\n",
       "      <td>557917</td>\n",
       "      <td>Bus</td>\n",
       "    </tr>\n",
       "    <tr>\n",
       "      <th>...</th>\n",
       "      <td>...</td>\n",
       "      <td>...</td>\n",
       "      <td>...</td>\n",
       "      <td>...</td>\n",
       "      <td>...</td>\n",
       "    </tr>\n",
       "    <tr>\n",
       "      <th>7696</th>\n",
       "      <td>11/26/2021</td>\n",
       "      <td>W</td>\n",
       "      <td>257700</td>\n",
       "      <td>189694</td>\n",
       "      <td>Bus</td>\n",
       "    </tr>\n",
       "    <tr>\n",
       "      <th>7697</th>\n",
       "      <td>11/27/2021</td>\n",
       "      <td>A</td>\n",
       "      <td>237839</td>\n",
       "      <td>187065</td>\n",
       "      <td>Bus</td>\n",
       "    </tr>\n",
       "    <tr>\n",
       "      <th>7698</th>\n",
       "      <td>11/28/2021</td>\n",
       "      <td>U</td>\n",
       "      <td>184817</td>\n",
       "      <td>147830</td>\n",
       "      <td>Bus</td>\n",
       "    </tr>\n",
       "    <tr>\n",
       "      <th>7699</th>\n",
       "      <td>11/29/2021</td>\n",
       "      <td>W</td>\n",
       "      <td>421322</td>\n",
       "      <td>276090</td>\n",
       "      <td>Bus</td>\n",
       "    </tr>\n",
       "    <tr>\n",
       "      <th>7700</th>\n",
       "      <td>11/30/2021</td>\n",
       "      <td>W</td>\n",
       "      <td>450230</td>\n",
       "      <td>302349</td>\n",
       "      <td>Bus</td>\n",
       "    </tr>\n",
       "  </tbody>\n",
       "</table>\n",
       "<p>7701 rows × 5 columns</p>\n",
       "</div>"
      ],
      "text/plain": [
       "     service_date day_type     bus  rail_boardings most_used\n",
       "0      01/01/2001        U  297192          126455       Bus\n",
       "1      01/02/2001        W  780827          501952       Bus\n",
       "2      01/03/2001        W  824923          536432       Bus\n",
       "3      01/04/2001        W  870021          550011       Bus\n",
       "4      01/05/2001        W  890426          557917       Bus\n",
       "...           ...      ...     ...             ...       ...\n",
       "7696   11/26/2021        W  257700          189694       Bus\n",
       "7697   11/27/2021        A  237839          187065       Bus\n",
       "7698   11/28/2021        U  184817          147830       Bus\n",
       "7699   11/29/2021        W  421322          276090       Bus\n",
       "7700   11/30/2021        W  450230          302349       Bus\n",
       "\n",
       "[7701 rows x 5 columns]"
      ]
     },
     "execution_count": 40,
     "metadata": {},
     "output_type": "execute_result"
    }
   ],
   "source": [
    "df['most_used'] = np.where(df['bus'] > df['rail_boardings'], 'Bus', 'Rail')\n",
    "\n",
    "pd.DataFrame(df[['service_date', 'day_type', 'bus', 'rail_boardings', 'most_used']])"
   ]
  }
 ],
 "metadata": {
  "kernelspec": {
   "display_name": "base",
   "language": "python",
   "name": "python3"
  },
  "language_info": {
   "codemirror_mode": {
    "name": "ipython",
    "version": 3
   },
   "file_extension": ".py",
   "mimetype": "text/x-python",
   "name": "python",
   "nbconvert_exporter": "python",
   "pygments_lexer": "ipython3",
   "version": "3.12.4"
  }
 },
 "nbformat": 4,
 "nbformat_minor": 2
}
