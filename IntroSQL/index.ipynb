{
 "cells": [
  {
   "cell_type": "code",
   "execution_count": 19,
   "metadata": {},
   "outputs": [
    {
     "name": "stdout",
     "output_type": "stream",
     "text": [
      "┌─────────┬─────────────────────────────────┬───────────┬────────┬─────────────────────────────────────┬─────────────┬────────────────┬─────────────────────┬──────────┬────────────────────────┬─────────────┬──────────────────┬────────────┬─────────────┬──────────────┐\n",
      "│ Company │             Product             │ TypeName  │ Inches │          ScreenResolution           │ CPU_Company │    CPU_Type    │ CPU_Frequency (GHz) │ RAM (GB) │         Memory         │ GPU_Company │     GPU_Type     │   OpSys    │ Weight (kg) │ Price (Euro) │\n",
      "│ varchar │             varchar             │  varchar  │ double │               varchar               │   varchar   │    varchar     │       double        │  int64   │        varchar         │   varchar   │     varchar      │  varchar   │   double    │    double    │\n",
      "├─────────┼─────────────────────────────────┼───────────┼────────┼─────────────────────────────────────┼─────────────┼────────────────┼─────────────────────┼──────────┼────────────────────────┼─────────────┼──────────────────┼────────────┼─────────────┼──────────────┤\n",
      "│ Asus    │ ROG G701VO                      │ Gaming    │   17.3 │ IPS Panel Full HD 1920x1080         │ Intel       │ Core i7 6820HK │                 2.7 │       64 │ 1TB SSD                │ Nvidia      │ GeForce GTX 980  │ Windows 10 │        3.58 │       3975.0 │\n",
      "│ Asus    │ G701VO-IH74K (i7-6820HK/32GB/2x │ Gaming    │   17.3 │ IPS Panel Full HD 1920x1080         │ Intel       │ Core i7 6820HK │                 2.7 │       32 │ 256GB SSD +  256GB SSD │ Nvidia      │ GeForce GTX 980M │ Windows 10 │        3.58 │       1279.0 │\n",
      "│ Dell    │ XPS 15                          │ Notebook  │   15.6 │ 4K Ultra HD / Touchscreen 3840x2160 │ Intel       │ Core i7 7700HQ │                 2.8 │       32 │ 1TB SSD                │ Nvidia      │ GeForce GTX 1050 │ Windows 10 │        2.06 │       2639.0 │\n",
      "│ Lenovo  │ IdeaPad Y910-17ISK              │ Gaming    │   17.3 │ IPS Panel Full HD 1920x1080         │ Intel       │ Core i7 6820HK │                 2.7 │       32 │ 256GB SSD +  1TB HDD   │ Nvidia      │ GeForce GTX 1070 │ Windows 10 │         4.6 │       2663.0 │\n",
      "│ MSI     │ GT80S 6QF-074US                 │ Gaming    │   18.4 │ Full HD 1920x1080                   │ Intel       │ Core i7 6920HQ │                 2.9 │       32 │ 512GB SSD +  1TB HDD   │ Nvidia      │ GTX 980 SLI      │ Windows 10 │         4.4 │       2799.0 │\n",
      "│ Toshiba │ Portege X30-D-10L               │ Ultrabook │   13.3 │ Full HD / Touchscreen 1920x1080     │ Intel       │ Core i7 7500U  │                 2.7 │       32 │ 512GB SSD              │ Intel       │ HD Graphics 620  │ Windows 10 │        1.05 │       2799.0 │\n",
      "│ Asus    │ ROG G701VI                      │ Gaming    │   17.3 │ IPS Panel Full HD 1920x1080         │ Intel       │ Core i7 6820HK │                 2.7 │       32 │ 512GB SSD              │ Nvidia      │ GeForce GTX 1080 │ Windows 10 │         3.8 │       2799.0 │\n",
      "│ Dell    │ Alienware 17                    │ Gaming    │   17.3 │ Full HD 1920x1080                   │ Intel       │ Core i7 6700HQ │                 2.6 │       32 │ 256GB SSD +  1TB HDD   │ Nvidia      │ GeForce GTX 1070 │ Windows 10 │        4.42 │       2800.0 │\n",
      "│ Dell    │ Alienware 17                    │ Gaming    │   17.3 │ IPS Panel Full HD 1920x1080         │ Intel       │ Core i7 7700HQ │                 2.8 │       32 │ 512GB SSD +  1TB HDD   │ Nvidia      │ GeForce GTX 1070 │ Windows 10 │        4.42 │      3072.89 │\n",
      "│ Dell    │ Alienware 17                    │ Gaming    │   17.3 │ IPS Panel 4K Ultra HD 3840x2160     │ Intel       │ Core i7 7700HQ │                 2.8 │       32 │ 512GB SSD +  1TB HDD   │ Nvidia      │ GeForce GTX 1070 │ Windows 10 │        4.42 │      3147.37 │\n",
      "├─────────┴─────────────────────────────────┴───────────┴────────┴─────────────────────────────────────┴─────────────┴────────────────┴─────────────────────┴──────────┴────────────────────────┴─────────────┴──────────────────┴────────────┴─────────────┴──────────────┤\n",
      "│ 10 rows                                                                                                                                                                                                                                                       15 columns │\n",
      "└──────────────────────────────────────────────────────────────────────────────────────────────────────────────────────────────────────────────────────────────────────────────────────────────────────────────────────────────────────────────────────────────────────────┘\n",
      "\n"
     ]
    }
   ],
   "source": [
    "import duckdb\n",
    "\n",
    "data = duckdb.query(\"SELECT * FROM 'laptop_price.csv' ORDER BY \\\"RAM (GB)\\\" DESC, \\\"Price (Euro)\\\" ASC LIMIT 10\")\n",
    "\n",
    "print(data)\n"
   ]
  }
 ],
 "metadata": {
  "kernelspec": {
   "display_name": "base",
   "language": "python",
   "name": "python3"
  },
  "language_info": {
   "codemirror_mode": {
    "name": "ipython",
    "version": 3
   },
   "file_extension": ".py",
   "mimetype": "text/x-python",
   "name": "python",
   "nbconvert_exporter": "python",
   "pygments_lexer": "ipython3",
   "version": "3.12.4"
  }
 },
 "nbformat": 4,
 "nbformat_minor": 2
}
