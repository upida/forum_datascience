{
 "cells": [
  {
   "cell_type": "markdown",
   "metadata": {},
   "source": [
    "# Lambda Function\n",
    "\n",
    "## Definisi\n",
    "\n",
    "> Lambda function adalah fungsi yang dibuat dengan menggunakan sintaks lambda.\n",
    "\n",
    "## Syntax\n",
    "\n",
    "```python\n",
    "lambda arguments: expression\n",
    "```\n"
   ]
  },
  {
   "cell_type": "markdown",
   "metadata": {},
   "source": [
    "## Contoh"
   ]
  },
  {
   "cell_type": "code",
   "execution_count": 1,
   "metadata": {},
   "outputs": [
    {
     "name": "stdout",
     "output_type": "stream",
     "text": [
      "5\n",
      "5\n"
     ]
    }
   ],
   "source": [
    "# Function\n",
    "def normal_function(x, y):\n",
    "    return x + y\n",
    "\n",
    "# Lambda\n",
    "lambda_function = lambda x, y: x + y\n",
    "\n",
    "# Pemanggilan\n",
    "print(normal_function(2, 3))\n",
    "print(lambda_function(2, 3))"
   ]
  }
 ],
 "metadata": {
  "kernelspec": {
   "display_name": "base",
   "language": "python",
   "name": "python3"
  },
  "language_info": {
   "codemirror_mode": {
    "name": "ipython",
    "version": 3
   },
   "file_extension": ".py",
   "mimetype": "text/x-python",
   "name": "python",
   "nbconvert_exporter": "python",
   "pygments_lexer": "ipython3",
   "version": "3.12.4"
  }
 },
 "nbformat": 4,
 "nbformat_minor": 2
}
